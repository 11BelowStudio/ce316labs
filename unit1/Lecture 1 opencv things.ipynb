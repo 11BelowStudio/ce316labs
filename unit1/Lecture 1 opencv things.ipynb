{
 "cells": [
  {
   "cell_type": "markdown",
   "id": "informative-glenn",
   "metadata": {},
   "source": [
    "* Assignment test harness works on Linux, may not necessarily work on Windows"
   ]
  },
  {
   "cell_type": "code",
   "execution_count": 3,
   "id": "democratic-creek",
   "metadata": {},
   "outputs": [
    {
     "name": "stdout",
     "output_type": "stream",
     "text": [
      "4.3.0\n"
     ]
    }
   ],
   "source": [
    "import cv2\n",
    "# has made opencv accessible.\n",
    "# called cv2 because it was the 2nd attempt at a python version of opencv\n",
    "\n",
    "print(cv2.__version__)"
   ]
  },
  {
   "cell_type": "code",
   "execution_count": null,
   "id": "civic-evanescence",
   "metadata": {},
   "outputs": [],
   "source": [
    "# we want to do the closest thing to a 'hello world' in opencv\n",
    "\n",
    "# routine that reads an image\n",
    "im = cv2.imread(\"img.png\")\n",
    "\n",
    "#routine that will show an image\n",
    "    # arg 1: window name\n",
    "    # arg 2: image\n",
    "cv2.imshow(\"nice\",im)\n",
    "\n",
    "# shows the image, and waits for a key to be pressed (before then closing the image)\n",
    "cv2.waitKey(0)\n",
    "\n",
    "print(\"done\")"
   ]
  },
  {
   "cell_type": "code",
   "execution_count": null,
   "id": "previous-diana",
   "metadata": {},
   "outputs": [],
   "source": []
  }
 ],
 "metadata": {
  "kernelspec": {
   "display_name": "Python 3",
   "language": "python",
   "name": "python3"
  }
 },
 "nbformat": 4,
 "nbformat_minor": 5
}