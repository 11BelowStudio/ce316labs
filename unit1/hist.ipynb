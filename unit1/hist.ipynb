{
 "cells": [
  {
   "cell_type": "code",
   "execution_count": 16,
   "metadata": {},
   "outputs": [
    {
     "name": "stdout",
     "output_type": "stream",
     "text": [
      "600 800 3\n"
     ]
    },
    {
     "data": {
      "text/plain": [
       "(array([[25.,  0.,  0.,  0.,  0.,  0.,  0.,  0.,  0.,  1.],\n",
       "        [25.,  0.,  0.,  0.,  0.,  0.,  0.,  0.,  0.,  0.],\n",
       "        [26.,  0.,  0.,  0.,  0.,  0.,  0.,  0.,  0.,  0.],\n",
       "        [14., 11.,  0.,  0.,  0.,  0.,  0.,  0.,  0.,  0.],\n",
       "        [ 0., 17.,  3.,  5.,  1.,  0.,  0.,  0.,  0.,  0.],\n",
       "        [ 0.,  0.,  3.,  6., 16.,  0.,  0.,  0.,  0.,  0.],\n",
       "        [ 7., 12.,  7.,  0.,  0.,  0.,  0.,  0.,  0.,  0.],\n",
       "        [25.,  0.,  0.,  0.,  0.,  0.,  0.,  0.,  0.,  0.],\n",
       "        [26.,  0.,  0.,  0.,  0.,  0.,  0.,  0.,  0.,  0.],\n",
       "        [26.,  0.,  0.,  0.,  0.,  0.,  0.,  0.,  0.,  0.]]),\n",
       " array([  0. ,  25.5,  51. ,  76.5, 102. , 127.5, 153. , 178.5, 204. ,\n",
       "        229.5, 255. ]),\n",
       " array([    0. ,  5495.1, 10990.2, 16485.3, 21980.4, 27475.5, 32970.6,\n",
       "        38465.7, 43960.8, 49455.9, 54951. ]),\n",
       " <matplotlib.collections.QuadMesh at 0xb5fe203340>)"
      ]
     },
     "execution_count": 16,
     "metadata": {},
     "output_type": "execute_result"
    },
    {
     "data": {
      "image/png": "[encoded data removed]",
      "text/plain": [
       "<Figure size 432x288 with 1 Axes>"
      ]
     },
     "metadata": {
      "needs_background": "light"
     },
     "output_type": "display_data"
    }
   ],
   "source": [
    "import cv2, sys, numpy, matplotlib.pyplot\n",
    "\n",
    "# histogram: number of times each individual picture value occurs in an image\n",
    "\n",
    "\n",
    "def my_histo(im):\n",
    "    \"Return the histogram of an image\"\n",
    "    ny, nx, nc = im.shape\n",
    "    print(ny,nx,nc)\n",
    "\n",
    "    # creates an array full of 0s for everything we see\n",
    "    hist = numpy.zeros((256))\n",
    "    for y in range(0,ny):\n",
    "        for x in range(0,nx):\n",
    "            for c in range (0,nc):\n",
    "                v = im[y,x,c] # cycles through the 3 channels, puts it into the histogram\n",
    "                hist[v] = hist[v] + 1 # adds 1, keeping count of times the grey level occurs\n",
    "    return hist\n",
    "\n",
    "\n",
    "# Read an image and store it as a numpy array\n",
    "# Has a type, can extract information from it\n",
    "im = cv2.imread(\"img1.png\")\n",
    "\n",
    "# calculate the histogram\n",
    "hist = my_histo(im)\n",
    "\n",
    "matplotlib.pyplot.plot(hist)\n",
    "\n",
    "histx = [0 for x in range(256)]\n",
    "histy = [0 for y in range(256)]\n",
    "# print out what has been calculated\n",
    "for i in range(0, 256):\n",
    "    #print(i, hist[i])\n",
    "    histx[i] = i\n",
    "    histy[i] = hist[i]\n",
    "\n",
    "matplotlib.pyplot.hist2d(histx,histy)\n",
    "\n"
   ]
  },
  {
   "cell_type": "code",
   "execution_count": null,
   "metadata": {},
   "outputs": [],
   "source": []
  }
 ],
 "metadata": {
  "kernelspec": {
   "display_name": "Python 3",
   "language": "python",
   "name": "python3"
  },
  "language_info": {
   "codemirror_mode": {
    "name": "ipython",
    "version": 3
   },
   "file_extension": ".py",
   "mimetype": "text/x-python",
   "name": "python",
   "nbconvert_exporter": "python",
   "pygments_lexer": "ipython3",
   "version": "3.8.7"
  }
 },
 "nbformat": 4,
 "nbformat_minor": 1
}